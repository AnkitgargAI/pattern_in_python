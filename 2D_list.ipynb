{
 "cells": [
  {
   "cell_type": "markdown",
   "metadata": {},
   "source": [
    "# Row wise sum\n",
    "\n",
    "For a given two-dimensional integer array/list of size (N x M), find and print the sum of each of the row elements in a single line, separated by a single space."
   ]
  },
  {
   "cell_type": "code",
   "execution_count": 6,
   "metadata": {},
   "outputs": [
    {
     "name": "stdout",
     "output_type": "stream",
     "text": [
      "4 4\n",
      "6 9 8 5 9 2 4 1 8 3 9 3 8 7 8 6\n",
      "28 16 23 29 "
     ]
    }
   ],
   "source": [
    "def rowWiseSum(arr):\n",
    "    rows = len(arr)\n",
    "    cols = len(arr[0])\n",
    "    l = [0] * rows\n",
    "    for i in range(rows):\n",
    "        for j in range(cols):\n",
    "             l[i] += arr[i][j]\n",
    "    return l\n",
    "#Main\n",
    "m, n=(int(i) for i in input().strip().split(' '))\n",
    "l=[int(i) for i in input().strip().split(' ')]\n",
    "arr = [ [ l[(j*n)+i] for i in range(n)] for j in range(m)]\n",
    "l=rowWiseSum(arr)\n",
    "print(*l, end = ' ')"
   ]
  },
  {
   "cell_type": "markdown",
   "metadata": {},
   "source": [
    "# Remove Consecutive Duplicates\n",
    "\n",
    "For a given string(str), remove all the consecutive duplicate characters.\n",
    "Example:\n",
    "\n",
    "Input String: \"aaaa\"\n",
    "Expected Output: \"a\"\n",
    "\n",
    "Input String: \"aabbbcc\"\n",
    "Expected Output: \"abc\""
   ]
  },
  {
   "cell_type": "code",
   "execution_count": 10,
   "metadata": {},
   "outputs": [
    {
     "name": "stdout",
     "output_type": "stream",
     "text": [
      "aabbcc\n",
      "abc"
     ]
    }
   ],
   "source": [
    "s = input()\n",
    "l = []\n",
    "prev_elm=''\n",
    "for i in s:\n",
    "    # print(i)\n",
    "    if prev_elm == i:\n",
    "        pass\n",
    "    else:\n",
    "        print(i,end='')\n",
    "        prev_elm = i"
   ]
  },
  {
   "cell_type": "markdown",
   "metadata": {},
   "source": [
    "# Highest Occuring Character\n",
    "\n",
    "For a given a string(str), find and return the highest occurring character.\n",
    "\n",
    "Example:\n",
    "\n",
    "Input String: \"abcdeapapqarr\"\n",
    "\n",
    "Expected Output: 'a'\n",
    "\n",
    "Since 'a' has appeared four times in the string which happens to be the highest frequency character, the answer would be 'a'."
   ]
  },
  {
   "cell_type": "code",
   "execution_count": 11,
   "metadata": {},
   "outputs": [
    {
     "name": "stdout",
     "output_type": "stream",
     "text": [
      "abcdeapapqarr\n",
      "a\n"
     ]
    }
   ],
   "source": [
    "# Python program to return the maximum occurring character in the input string \n",
    "ASCII_SIZE = 256\n",
    "\n",
    "def getMaxOccuringChar(str): \n",
    "    count = [0] * ASCII_SIZE \n",
    "\n",
    "    max = -1\n",
    "    c = '' \n",
    "\n",
    "    # Traversing through the string and maintaining the count of \n",
    "    # each character \n",
    "    for i in str: \n",
    "        count[ord(i)]+=1; \n",
    "\n",
    "    for i in str: \n",
    "         if max < count[ord(i)]: \n",
    "            max = count[ord(i)] \n",
    "            c = i \n",
    "\n",
    "    return c \n",
    "\n",
    "# Driver program to test the above function \n",
    "str = input()\n",
    "print(getMaxOccuringChar(str))\n"
   ]
  },
  {
   "cell_type": "markdown",
   "metadata": {},
   "source": [
    "# Arrange Numbers in the Array\n",
    "\n",
    "You have been given an empty array(ARR) and its size N. The only input taken from the user will be N and you need not worry about the array.\n",
    "\n",
    "Your task is to populate the array using the integer values in the range 1 to N(both inclusive) in the order - 1,3,.......4,2"
   ]
  },
  {
   "cell_type": "code",
   "execution_count": 20,
   "metadata": {},
   "outputs": [
    {
     "name": "stdout",
     "output_type": "stream",
     "text": [
      "6\n",
      "1 3 5 6 4 2 \n"
     ]
    }
   ],
   "source": [
    "def arrange(arr, n):\n",
    "    a = []\n",
    "    b = []\n",
    "    for i in range(1,n+1):\n",
    "        if((i%2)!=0):\n",
    "            a.append(i)\n",
    "        else:\n",
    "            b.append(i)\n",
    "    b=b[::-1]\n",
    "    return (a+b)\n",
    "\n",
    "def printList(arr, n) :\n",
    "    for i in range(n) :\n",
    "        print(arr[i], end = ' ')\n",
    "    print()\n",
    "\n",
    "#main\n",
    "n = int(input().strip())\n",
    "arr = [0]*n\n",
    "arr=arrange(arr, n)\n",
    "printList(arr, n)"
   ]
  },
  {
   "cell_type": "markdown",
   "metadata": {},
   "source": [
    "# Leaders in array\n",
    "\n",
    "Given an integer array A of size n. Find and print all the leaders present in the input array. An array element A[i] is called Leader, if all the elements following it (i.e. present at its right) are less than or equal to A[i].\n",
    "\n",
    "Print all the leader elements separated by space and in the same order they are present in the input array."
   ]
  },
  {
   "cell_type": "code",
   "execution_count": 21,
   "metadata": {},
   "outputs": [
    {
     "name": "stdout",
     "output_type": "stream",
     "text": [
      "6\n",
      "3 12 34 2 0 -1\n",
      "34 2 0 -1\n"
     ]
    }
   ],
   "source": [
    "def printLeaders(arr,size):\n",
    "    for i in range(0, size):\n",
    "        count = 0\n",
    "        for j in range(i+1, size):\n",
    "            if arr[i] <= arr[j]:\n",
    "                break\n",
    "            else:\n",
    "                count = count+1\n",
    "        if count > 0:\n",
    "            print(arr[i],end=' ')\n",
    "    print(arr[size-1])\n",
    "\n",
    "n = int(input())\n",
    "arr = [int(x) for x in input().strip().split(' ')]\n",
    "printLeaders(arr, n) "
   ]
  },
  {
   "cell_type": "markdown",
   "metadata": {},
   "source": [
    "# Maximise the sum\n",
    "\n",
    "Given 2 sorted arrays (in increasing order), find a path through the intersections that produces maximum sum and return the maximum sum.\n",
    "That is, we can switch from one array to another array only at common elements.\n",
    "\n",
    "If no intersection element is present, we need to take sum of all elements from the array with greater sum."
   ]
  },
  {
   "cell_type": "code",
   "execution_count": 23,
   "metadata": {},
   "outputs": [
    {
     "name": "stdout",
     "output_type": "stream",
     "text": [
      "1\n",
      "7719477 \n",
      "1\n",
      "7369117 \n",
      "7719477\n"
     ]
    }
   ],
   "source": [
    "n = int(input())\n",
    "arr1 = [int(x) for x in input().strip().split()]\n",
    " \n",
    "m = int(input())\n",
    "arr2 = [int(x) for x in input().strip().split()]\n",
    "\n",
    "i=0\n",
    "j=0\n",
    "sum1 = 0\n",
    "sum2 = 0\n",
    "result = 0\n",
    "while i<n and j<m:\n",
    "    if arr1[i] < arr2[j]:\n",
    "        sum1 = sum1 + arr1[i]\n",
    "        i += 1\n",
    "    elif arr2[j]<arr1[i]:\n",
    "        sum2 = sum2 + arr2[j]\n",
    "        j += 1\n",
    "    else:\n",
    "        result = result + max(sum1,sum2)\n",
    "        sum1 = 0\n",
    "        sum2 = 0\n",
    "        \n",
    "        while (i<n) and (j<m) and (arr1[i] == arr2[j]):\n",
    "            result = result+arr1[i]\n",
    "            i += 1\n",
    "            j += 1\n",
    "\n",
    "# for remaining\n",
    "while i<n:\n",
    "    sum1 = sum1 + arr1[i]\n",
    "    i += 1\n",
    "    \n",
    "while j<m:\n",
    "    sum2 = sum2 + arr2[j]\n",
    "    j += 1\n",
    "    \n",
    "result = result + max(sum1,sum2)\n",
    "print(result)"
   ]
  },
  {
   "cell_type": "markdown",
   "metadata": {},
   "source": [
    "# Largest Row or Column\n",
    "\n",
    "For a given two-dimensional integer array/list of size (N x M), you need to find out which row or column has the largest sum(sum of all the elements in a row/column) amongst all the rows and columns."
   ]
  },
  {
   "cell_type": "code",
   "execution_count": 24,
   "metadata": {},
   "outputs": [
    {
     "name": "stdout",
     "output_type": "stream",
     "text": [
      "4 4\n",
      "6 9 8 5 9 2 4 1 8 3 9 3 8 7 8 6\n",
      "column 0 31\n"
     ]
    }
   ],
   "source": [
    "def largestRowCol(arr):\n",
    "    sumRow = [0] * m\n",
    "    sumCol = [0] * n\n",
    "    for i in range(m):\n",
    "        for j in range(n):\n",
    "            sumRow[i] += arr[i][j]\n",
    "            sumCol[j] += arr[i][j]\n",
    "        \n",
    "    # Assume row 0 has maximum sum\n",
    "    l = ['row', 0, sumRow[0]]\n",
    "    for i in range(m):\n",
    "        if sumRow[i] > l[2]:\n",
    "            l[2] = sumRow[i]\n",
    "            l[1] = i\n",
    "    for j in range(n):\n",
    "        if sumCol[j] > l[2]:\n",
    "            l[2] = sumCol[j]\n",
    "            l[1] = j\n",
    "            l[0] = 'column'\n",
    "    return l\n",
    "\n",
    "# Main\n",
    "m, n=(int(i) for i in input().strip().split(' '))\n",
    "l=[int(i) for i in input().strip().split(' ')]\n",
    "arr = [ [ l[(j*n)+i] for i in range(n)] for j in range(m)]\n",
    "l=largestRowCol(arr)\n",
    "print(*l)"
   ]
  },
  {
   "cell_type": "markdown",
   "metadata": {},
   "source": [
    "# Print Spiral\n",
    "\n",
    "For a given two-dimensional integer array/list of size (N x M), print it in a spiral form. That is, you need to print in the order followed for every iteration:\n",
    "\n",
    "a. First row(left to right)\n",
    "\n",
    "b. Last column(top to bottom)\n",
    "\n",
    "c. Last row(right to left)\n",
    "\n",
    "d. First column(bottom to top)"
   ]
  },
  {
   "cell_type": "code",
   "execution_count": 33,
   "metadata": {},
   "outputs": [
    {
     "name": "stdout",
     "output_type": "stream",
     "text": [
      "0 0\n"
     ]
    }
   ],
   "source": [
    "def spiralPrint(m, n, a) : \n",
    "    k = 0; l = 0\n",
    "        \n",
    "    while (k < m and l < n) : \n",
    "        # Print the first row from \n",
    "        # the remaining rows \n",
    "        for i in range(l, n) : \n",
    "            print(a[k][i], end = \" \") \n",
    "\n",
    "        k += 1\n",
    "\n",
    "        # Print the last column from \n",
    "        # the remaining columns \n",
    "        for i in range(k, m) : \n",
    "            print(a[i][n - 1], end = \" \") \n",
    "            \n",
    "        n -= 1\n",
    "\n",
    "        # Print the last row from \n",
    "        # the remaining rows \n",
    "        if ( k < m) : \n",
    "            for i in range(n - 1, (l - 1), -1) : \n",
    "                print(a[m - 1][i], end = \" \") \n",
    "            m -= 1\n",
    "\n",
    "        # Print the first column from \n",
    "        # the remaining columns \n",
    "        if (l < n) : \n",
    "            for i in range(m - 1, k - 1, -1) : \n",
    "                print(a[i][l], end = \" \") \n",
    "            l += 1\n",
    "\n",
    "# Driver Code \n",
    "l=[int(i) for i in input().strip().split(' ')]\n",
    "m, n=l[0], l[1]\n",
    "arr = [ [ l[(j*n)+i+2] for i in range(n)] for j in range(m)]\n",
    "spiralPrint(m, n, arr)"
   ]
  },
  {
   "cell_type": "code",
   "execution_count": null,
   "metadata": {},
   "outputs": [],
   "source": []
  }
 ],
 "metadata": {
  "kernelspec": {
   "display_name": "Python 3",
   "language": "python",
   "name": "python3"
  },
  "language_info": {
   "codemirror_mode": {
    "name": "ipython",
    "version": 3
   },
   "file_extension": ".py",
   "mimetype": "text/x-python",
   "name": "python",
   "nbconvert_exporter": "python",
   "pygments_lexer": "ipython3",
   "version": "3.7.3"
  }
 },
 "nbformat": 4,
 "nbformat_minor": 2
}
