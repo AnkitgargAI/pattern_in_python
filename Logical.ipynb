{
 "cells": [
  {
   "cell_type": "markdown",
   "metadata": {},
   "source": [
    "# Write a program to print first x terms of the series 3N + 2 which are not multiples of 4."
   ]
  },
  {
   "cell_type": "code",
   "execution_count": 1,
   "metadata": {},
   "outputs": [
    {
     "name": "stdout",
     "output_type": "stream",
     "text": [
      "5\n",
      "5 11 14 17 23 "
     ]
    }
   ],
   "source": [
    "x = int(input())\n",
    "flag = 0\n",
    "e = 10000009\n",
    "for i in range(1,e):\n",
    "    b = ((3*i)+2)\n",
    "    if b %4 != 0:\n",
    "        flag = flag + 1\n",
    "        print(b,end=' ')\n",
    "    if flag >=x:\n",
    "        break"
   ]
  },
  {
   "cell_type": "markdown",
   "metadata": {},
   "source": [
    "# Given a decimal number (integer N), convert it into binary and print.\n",
    "\n",
    "The binary number should be in the form of an integer.\n",
    "\n",
    "Note : The given input number could be large, so the corresponding binary number can exceed the integer range. \n",
    "    So you may want to take the answer as long for CPP and Java."
   ]
  },
  {
   "cell_type": "code",
   "execution_count": 3,
   "metadata": {},
   "outputs": [
    {
     "name": "stdout",
     "output_type": "stream",
     "text": [
      "23\n",
      "10111"
     ]
    }
   ],
   "source": [
    "def DecimalToBinary(num): \n",
    "    if num > 1:\n",
    "        DecimalToBinary(num // 2)\n",
    "    print(num % 2, end = '') \n",
    "\n",
    "# Driver Code \n",
    "    # decimal value \n",
    "dec_val = int(input())\n",
    "    \n",
    "   # Calling function \n",
    "DecimalToBinary(dec_val) "
   ]
  },
  {
   "cell_type": "markdown",
   "metadata": {},
   "source": [
    "# Given a binary number as an integer N, convert it into decimal and print."
   ]
  },
  {
   "cell_type": "code",
   "execution_count": 4,
   "metadata": {},
   "outputs": [
    {
     "name": "stdout",
     "output_type": "stream",
     "text": [
      "10111\n",
      "23\n"
     ]
    }
   ],
   "source": [
    "def binaryToDecimal(binary): \n",
    "      \n",
    "    binary1 = binary \n",
    "    decimal, i, n = 0, 0, 0\n",
    "    while(binary != 0): \n",
    "        dec = binary % 10\n",
    "        decimal = decimal + dec * pow(2, i) \n",
    "        binary = binary//10\n",
    "        i += 1\n",
    "    print(decimal) \n",
    "    \n",
    "a = int(input())\n",
    "binaryToDecimal(a)"
   ]
  },
  {
   "cell_type": "markdown",
   "metadata": {},
   "source": [
    "# Even Fibonacci Numbers"
   ]
  },
  {
   "cell_type": "code",
   "execution_count": 8,
   "metadata": {},
   "outputs": [
    {
     "name": "stdout",
     "output_type": "stream",
     "text": [
      "400\n",
      "188\n"
     ]
    }
   ],
   "source": [
    "def fabonacci(n):\n",
    "    if n == 0:\n",
    "        return 0\n",
    "    elif n == 1:\n",
    "        return 1\n",
    "    else:\n",
    "        f = 0\n",
    "        s = 1\n",
    "        sum = 0\n",
    "        for x in range(2,n+1):\n",
    "            next = f + s\n",
    "            if next >=n:\n",
    "                break\n",
    "            if next %2 == 0:\n",
    "                sum = sum + int(next)\n",
    "            #print(sum ,' ',next, ' ', x)\n",
    "            f = s\n",
    "            s = next\n",
    "            x = x+ 1\n",
    "        return sum\n",
    "        \n",
    "\n",
    "\n",
    "n = int(input())\n",
    "result = fabonacci(n)\n",
    "print(result)"
   ]
  },
  {
   "cell_type": "markdown",
   "metadata": {},
   "source": [
    "# Trailing zeroes in n!\n",
    "Find and return number of trailing 0s in n factorial without calculating n factorial."
   ]
  },
  {
   "cell_type": "code",
   "execution_count": 10,
   "metadata": {},
   "outputs": [
    {
     "name": "stdout",
     "output_type": "stream",
     "text": [
      "50\n",
      "12\n"
     ]
    }
   ],
   "source": [
    "def findTrailingZeros(n):\n",
    "    count = 0\n",
    "    i=5\n",
    "    while (n/i>=1):\n",
    "        count += int(n/i) \n",
    "        i *= 5\n",
    "\n",
    "    return int(count) \n",
    "\n",
    "n = int(input())\n",
    "print(findTrailingZeros(n)) "
   ]
  },
  {
   "cell_type": "code",
   "execution_count": null,
   "metadata": {},
   "outputs": [],
   "source": []
  }
 ],
 "metadata": {
  "kernelspec": {
   "display_name": "Python 3",
   "language": "python",
   "name": "python3"
  },
  "language_info": {
   "codemirror_mode": {
    "name": "ipython",
    "version": 3
   },
   "file_extension": ".py",
   "mimetype": "text/x-python",
   "name": "python",
   "nbconvert_exporter": "python",
   "pygments_lexer": "ipython3",
   "version": "3.7.3"
  }
 },
 "nbformat": 4,
 "nbformat_minor": 2
}
