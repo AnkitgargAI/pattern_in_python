{
 "cells": [
  {
   "cell_type": "markdown",
   "metadata": {},
   "source": [
    "# Print the following square pattern for the given N number of rows.\n",
    "\n",
    "Pattern for N = 4\n",
    "\n",
    "4444 <br>\n",
    "4444 <br>\n",
    "4444<br>\n",
    "4444"
   ]
  },
  {
   "cell_type": "code",
   "execution_count": 1,
   "metadata": {},
   "outputs": [
    {
     "name": "stdout",
     "output_type": "stream",
     "text": [
      "4\n",
      "4444\n",
      "4444\n",
      "4444\n",
      "4444\n"
     ]
    }
   ],
   "source": [
    "n = int(input())\n",
    "i = 1\n",
    "while i <= n:\n",
    "    j=1\n",
    "    while j<=n:\n",
    "        print(n,end='')\n",
    "        j = j+1\n",
    "    print()\n",
    "    i = i+1"
   ]
  },
  {
   "cell_type": "markdown",
   "metadata": {},
   "source": [
    "# Print the following triangular square pattern for the given N number of rows.\n",
    "\n",
    "Pattern for N = 4\n",
    "\n",
    "    * \n",
    "    ** \n",
    "    *** \n",
    "    **** "
   ]
  },
  {
   "cell_type": "code",
   "execution_count": 2,
   "metadata": {},
   "outputs": [
    {
     "name": "stdout",
     "output_type": "stream",
     "text": [
      "4\n",
      "*\n",
      "**\n",
      "***\n",
      "****\n"
     ]
    }
   ],
   "source": [
    "n=int(input())\n",
    "i = 1\n",
    "while i<=n:\n",
    "    j=1\n",
    "    while j<=i:\n",
    "        print('*',end='')\n",
    "        j=j+1\n",
    "    print()\n",
    "    i=i+1"
   ]
  },
  {
   "cell_type": "markdown",
   "metadata": {},
   "source": [
    "# Print the following triangle number pattern for the given N number of rows.\n",
    "\n",
    "Pattern for N = 4\n",
    "\n",
    "    1\n",
    "    22\n",
    "    333\n",
    "    4444"
   ]
  },
  {
   "cell_type": "code",
   "execution_count": 3,
   "metadata": {},
   "outputs": [
    {
     "name": "stdout",
     "output_type": "stream",
     "text": [
      "4\n",
      "1\n",
      "22\n",
      "333\n",
      "4444\n"
     ]
    }
   ],
   "source": [
    "n=int(input())\n",
    "i = 1\n",
    "while i<=n:\n",
    "    j=1\n",
    "    while j<=i:\n",
    "        print(i,end='')\n",
    "        j=j+1\n",
    "    print()\n",
    "    i=i+1"
   ]
  },
  {
   "cell_type": "markdown",
   "metadata": {},
   "source": [
    "# Print the following reverse number pattern for the given N number of rows.\n",
    "Pattern for N = 4\n",
    "\n",
    "    1\n",
    "    21\n",
    "    321\n",
    "    4321"
   ]
  },
  {
   "cell_type": "code",
   "execution_count": 4,
   "metadata": {},
   "outputs": [
    {
     "name": "stdout",
     "output_type": "stream",
     "text": [
      "4\n",
      "1\n",
      "21\n",
      "321\n",
      "4321\n"
     ]
    }
   ],
   "source": [
    "n=int(input())\n",
    "i = 1\n",
    "while i<=n:\n",
    "    j=1\n",
    "    p=i\n",
    "    while j<=i:\n",
    "        print(p,end='')\n",
    "        j=j+1\n",
    "        p=p-1\n",
    "    print()\n",
    "    i=i+1"
   ]
  },
  {
   "cell_type": "markdown",
   "metadata": {},
   "source": [
    "# Print the following Alpha pattern for the given N number of rows.\n",
    "Pattern for N = 3\n",
    "\n",
    "     A\n",
    "     BB\n",
    "     CCC"
   ]
  },
  {
   "cell_type": "code",
   "execution_count": 5,
   "metadata": {},
   "outputs": [
    {
     "name": "stdout",
     "output_type": "stream",
     "text": [
      "4\n",
      "A\n",
      "BB\n",
      "CCC\n",
      "DDDD\n"
     ]
    }
   ],
   "source": [
    "n=int(input())\n",
    "i = 1\n",
    "while i<=n:\n",
    "    j=1\n",
    "    while j<=i:\n",
    "        charp = chr(ord('A')+i-1)\n",
    "        print(charp,end='')\n",
    "        j=j+1\n",
    "    print()\n",
    "    i=i+1"
   ]
  },
  {
   "cell_type": "markdown",
   "metadata": {},
   "source": [
    "# Print the following character pattern for the given N number of rows.\n",
    "Pattern for N = 4\n",
    "\n",
    "    A\n",
    "    BC\n",
    "    CDE\n",
    "    DEFG"
   ]
  },
  {
   "cell_type": "code",
   "execution_count": 6,
   "metadata": {},
   "outputs": [
    {
     "name": "stdout",
     "output_type": "stream",
     "text": [
      "4\n",
      "A\n",
      "BC\n",
      "CDE\n",
      "DEFG\n"
     ]
    }
   ],
   "source": [
    "n=int(input())\n",
    "i = 1\n",
    "while i<=n:\n",
    "    j=1\n",
    "    start_char = chr(ord('A')+i-1)\n",
    "    while j<=i:\n",
    "        charp = chr(ord(start_char) +j-1)\n",
    "        print(charp,end='')\n",
    "        j=j+1\n",
    "    print()\n",
    "    i=i+1"
   ]
  },
  {
   "cell_type": "markdown",
   "metadata": {},
   "source": [
    "# Print the following intersecting pattern for the given number of rows.\n",
    "Pattern for N = 5\n",
    "\n",
    "    E\n",
    "    DE\n",
    "    CDE\n",
    "    BCDE\n",
    "    ABCDE"
   ]
  },
  {
   "cell_type": "code",
   "execution_count": 7,
   "metadata": {},
   "outputs": [
    {
     "name": "stdout",
     "output_type": "stream",
     "text": [
      "5\n",
      "E\n",
      "DE\n",
      "CDE\n",
      "BCDE\n",
      "ABCDE\n"
     ]
    }
   ],
   "source": [
    "n=int(input())\n",
    "i = 1\n",
    "while i<=n:\n",
    "    j=1\n",
    "    start_char = chr(ord('A')+n-i)\n",
    "    while j<=i:\n",
    "        charp = chr(ord(start_char) +j-1)\n",
    "        print(charp,end='')\n",
    "        j=j+1\n",
    "    print()\n",
    "    i=i+1"
   ]
  },
  {
   "cell_type": "markdown",
   "metadata": {},
   "source": [
    "# Print the following inverted number pattern for the given N number of rows.\n",
    "Pattern for N = 4\n",
    "\n",
    "    4444\n",
    "    333\n",
    "    22\n",
    "    1"
   ]
  },
  {
   "cell_type": "code",
   "execution_count": 8,
   "metadata": {},
   "outputs": [
    {
     "name": "stdout",
     "output_type": "stream",
     "text": [
      "4\n",
      "4444\n",
      "333\n",
      "22\n",
      "1\n"
     ]
    }
   ],
   "source": [
    "n=int(input())\n",
    "i = 1\n",
    "while i<=n:\n",
    "    j=1\n",
    "    start_char = (n-i+1)\n",
    "    while j<=start_char:\n",
    "        #charp = chr(ord(start_char) +j-1)\n",
    "        print(start_char,end='')\n",
    "        j=j+1\n",
    "    print()\n",
    "    i=i+1"
   ]
  },
  {
   "cell_type": "markdown",
   "metadata": {},
   "source": [
    "# Print the following mirror number pattern for the given N number of rows.\n",
    "Pattern for N = 4\n",
    "\n",
    "    ...1\n",
    "    ..12\n",
    "    .123\n",
    "    1234\n",
    "The dots represent spaces."
   ]
  },
  {
   "cell_type": "code",
   "execution_count": 9,
   "metadata": {},
   "outputs": [
    {
     "name": "stdout",
     "output_type": "stream",
     "text": [
      "4\n",
      "   1\n",
      "  12\n",
      " 123\n",
      "1234\n"
     ]
    }
   ],
   "source": [
    "n=int(input())\n",
    "i = 1\n",
    "while i<=n:\n",
    "    space=1\n",
    "    #start_char = (n-i+1)\n",
    "    while space<=n-i:\n",
    "        #charp = chr(ord(start_char) +j-1)\n",
    "        print(' ',end='')\n",
    "        space=space+1\n",
    "    num = 1\n",
    "    while num<=i:\n",
    "        #charp = chr(ord(start_char) +j-1)\n",
    "        print(num,end='')\n",
    "        num=num+1\n",
    "    print()\n",
    "    i=i+1"
   ]
  },
  {
   "cell_type": "markdown",
   "metadata": {},
   "source": [
    "# Print the following pattern\n",
    "Pattern for N = 4\n",
    "\n",
    "    ...*\n",
    "    ..***\n",
    "    .*****\n",
    "    *******\n",
    "\n",
    "The dots represent spaces."
   ]
  },
  {
   "cell_type": "code",
   "execution_count": 10,
   "metadata": {},
   "outputs": [
    {
     "name": "stdout",
     "output_type": "stream",
     "text": [
      "4\n",
      "   *\n",
      "  ***\n",
      " *****\n",
      "*******\n"
     ]
    }
   ],
   "source": [
    "\n",
    "n=int(input())\n",
    "i = 1\n",
    "while i<=n:\n",
    "    space=1\n",
    "    #start_char = (n-i+1)\n",
    "    while space<=n-i:\n",
    "        #charp = chr(ord(start_char) +j-1)\n",
    "        print(' ',end='')\n",
    "        space=space+1\n",
    "    j = 1\n",
    "    \n",
    "    while j<=i:\n",
    "        #charp = chr(ord(start_char) +j-1)\n",
    "        print('*',end='')\n",
    "        j=j+1\n",
    "        \n",
    "    p = i-1\n",
    "    while p>=1:\n",
    "        print('*',end='')\n",
    "        p =p-1\n",
    "    print()\n",
    "    i=i+1"
   ]
  },
  {
   "cell_type": "markdown",
   "metadata": {},
   "source": [
    "# Print the following pattern for the given number of rows.\n",
    "Pattern for N = 4\n",
    "\n",
    "    ...1\n",
    "    ..232\n",
    "    .34543\n",
    "    4567654\n",
    "    \n",
    "\n",
    "\n",
    "The dots represent spaces."
   ]
  },
  {
   "cell_type": "code",
   "execution_count": 11,
   "metadata": {},
   "outputs": [
    {
     "name": "stdout",
     "output_type": "stream",
     "text": [
      "4\n",
      "   1\n",
      "  232\n",
      " 34543\n",
      "4567654\n"
     ]
    }
   ],
   "source": [
    "n=int(input())\n",
    "i = 1\n",
    "while i<=n:\n",
    "    space=1\n",
    "    #start_char = (n-i+1)\n",
    "    while space<=n-i:\n",
    "        #charp = chr(ord(start_char) +j-1)\n",
    "        print(' ',end='')\n",
    "        space=space+1\n",
    "    j = 1\n",
    "    #p = i\n",
    "    while j<=i:\n",
    "        #charp = chr(ord(start_char) +j-1)\n",
    "        print(i+j-1,end='')\n",
    "        p=i+j-2\n",
    "        j=j+1\n",
    "        \n",
    "    #p = i\n",
    "    #print(p)\n",
    "    while p>=i:\n",
    "        print(p,end='')\n",
    "        p = p-1\n",
    "    print()\n",
    "    i=i+1"
   ]
  },
  {
   "cell_type": "markdown",
   "metadata": {},
   "source": [
    "# Print the following pattern for the given number of rows.\n",
    "Note: N is always odd.\n",
    "\n",
    "\n",
    "Pattern for N = 5\n",
    "\n",
    "    ..*\n",
    "    .***\n",
    "    *****\n",
    "    .***\n",
    "    ..* \n",
    "    \n",
    "The dots represent spaces."
   ]
  },
  {
   "cell_type": "code",
   "execution_count": 12,
   "metadata": {},
   "outputs": [
    {
     "name": "stdout",
     "output_type": "stream",
     "text": [
      "5\n",
      "  *\n",
      " ***\n",
      "*****\n",
      " ***\n",
      "  *\n"
     ]
    }
   ],
   "source": [
    "n=int(input())\n",
    "i=1\n",
    "mid=(n//2)+1\n",
    "while i<=n:\n",
    "    if i<=mid:\n",
    "        space=1\n",
    "        while space<=mid-i:\n",
    "            print(\" \",end=\"\")\n",
    "            space+=1\n",
    "        star=1\n",
    "        while star<=i:\n",
    "            print(\"*\",end=\"\")\n",
    "            star+=1\n",
    "        newstar=i-1\n",
    "        while newstar>=1:\n",
    "            print(\"*\",end=\"\")\n",
    "            newstar-=1\n",
    "    else:\n",
    "        space=i-mid\n",
    "        while space>=1:\n",
    "            print(\" \",end=\"\")\n",
    "            space-=1\n",
    "        star=(2*mid)-i\n",
    "        while star>=1:\n",
    "            print(\"*\",end=\"\")\n",
    "            star-=1\n",
    "        newstar=(2*mid)-i-1\n",
    "        while newstar>=1:\n",
    "            print(\"*\",end=\"\")\n",
    "            newstar-=1\n",
    "    print()\n",
    "    i+=1"
   ]
  },
  {
   "cell_type": "code",
   "execution_count": null,
   "metadata": {},
   "outputs": [],
   "source": []
  }
 ],
 "metadata": {
  "kernelspec": {
   "display_name": "Python 3",
   "language": "python",
   "name": "python3"
  },
  "language_info": {
   "codemirror_mode": {
    "name": "ipython",
    "version": 3
   },
   "file_extension": ".py",
   "mimetype": "text/x-python",
   "name": "python",
   "nbconvert_exporter": "python",
   "pygments_lexer": "ipython3",
   "version": "3.7.3"
  }
 },
 "nbformat": 4,
 "nbformat_minor": 2
}
