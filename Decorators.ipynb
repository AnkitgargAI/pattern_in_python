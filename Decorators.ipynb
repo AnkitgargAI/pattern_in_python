{
 "cells": [
  {
   "cell_type": "markdown",
   "metadata": {},
   "source": [
    "# Decorators"
   ]
  },
  {
   "cell_type": "markdown",
   "metadata": {},
   "source": [
    " <h3> Functions in python </h3>\n",
    " \n",
    " <ul>\n",
    "    <li>First class object</li>\n",
    "    <li>Inner Function</li>\n",
    "</ul>\n",
    "\n",
    "1. <u>First Class Object</u> :- In python everything is treated as object including data types, functions too. Therefore, a function is also called as object and can pass as arguments.\n",
    "\n",
    "\n",
    "2. <u>Inner Function</u> :- It is possible to define functions inside the functions. that function is called Inner Function."
   ]
  },
  {
   "cell_type": "code",
   "execution_count": 6,
   "metadata": {},
   "outputs": [],
   "source": [
    "def fun1(name):\n",
    "    return f\"Hello\\t {name}\""
   ]
  },
  {
   "cell_type": "code",
   "execution_count": 7,
   "metadata": {},
   "outputs": [
    {
     "data": {
      "text/plain": [
       "'Hello\\t world'"
      ]
     },
     "execution_count": 7,
     "metadata": {},
     "output_type": "execute_result"
    }
   ],
   "source": [
    "fun1('world')"
   ]
  },
  {
   "cell_type": "markdown",
   "metadata": {},
   "source": [
    "<h3>Decorators</h3>\n",
    "\n",
    " Decorators in python are very powerful which modify the behaviour without modifying it permanently. It basically wraps another function and since both functons are callable. it returns callable."
   ]
  },
  {
   "cell_type": "code",
   "execution_count": 28,
   "metadata": {},
   "outputs": [
    {
     "name": "stdout",
     "output_type": "stream",
     "text": [
      "Hello\n",
      "!! This\n",
      " is a decorator example!\n"
     ]
    }
   ],
   "source": [
    "def  function1(function):\n",
    "    def wrapper():\n",
    "        print(\"Hello\")\n",
    "        function()\n",
    "        print(\" is a decorator example!\")\n",
    "    return wrapper\n",
    "@function1\n",
    "def function2():\n",
    "    print(\"!! This\")\n",
    "    \n",
    "\n",
    "function2()"
   ]
  },
  {
   "cell_type": "code",
   "execution_count": 26,
   "metadata": {},
   "outputs": [
    {
     "name": "stdout",
     "output_type": "stream",
     "text": [
      "1\n",
      "4\n",
      "25\n",
      "2\n",
      "-5\n"
     ]
    }
   ],
   "source": [
    "class Square:\n",
    "    def __init__(self,side):\n",
    "        print('1')\n",
    "        self._side = side\n",
    "    @property\n",
    "    def side(self):\n",
    "        print('2')\n",
    "        return self._side\n",
    "    @side.setter\n",
    "    def side(side,value):\n",
    "        print('3')\n",
    "        if value>=0:\n",
    "            print('3.1')\n",
    "            self._side = value\n",
    "        else:\n",
    "            print('3.2')\n",
    "            print(\"error\")\n",
    "    @property\n",
    "    def area(self):\n",
    "        print('4')\n",
    "        return self._side**2\n",
    "    @classmethod\n",
    "    def unit_square(cls):\n",
    "        return cls(1)\n",
    "    \n",
    "s = Square(-5)\n",
    "print(s.area)\n",
    "print(s.side)\n",
    "        "
   ]
  },
  {
   "cell_type": "code",
   "execution_count": 27,
   "metadata": {},
   "outputs": [
    {
     "name": "stdout",
     "output_type": "stream",
     "text": [
      "1\n",
      "3\n",
      "2\n"
     ]
    }
   ],
   "source": [
    "def a(func):\n",
    "    def d():\n",
    "        print('1')\n",
    "        func()\n",
    "        print('2')\n",
    "    return d\n",
    "    \n",
    "def b():\n",
    "    print('3')\n",
    "\n",
    "b = a(b)\n",
    "\n",
    "b()\n"
   ]
  },
  {
   "cell_type": "code",
   "execution_count": 29,
   "metadata": {},
   "outputs": [],
   "source": [
    "import functools"
   ]
  },
  {
   "cell_type": "code",
   "execution_count": 38,
   "metadata": {},
   "outputs": [
    {
     "name": "stdout",
     "output_type": "stream",
     "text": [
      "python\n",
      "python\n",
      "python\n",
      "python\n"
     ]
    }
   ],
   "source": [
    "def repeat(num):\n",
    "    def decorator_repeat(func):\n",
    "        @functools.wraps(func)\n",
    "        def wrapper(*args, **kwrgs):\n",
    "            for _ in range(num):\n",
    "                value = func(*args, **kwrgs)\n",
    "            return value\n",
    "        return wrapper\n",
    "    return decorator_repeat\n",
    "        \n",
    "\n",
    "\n",
    "\n",
    "\n",
    "@repeat(num=4)\n",
    "def function(name):\n",
    "    print(f\"{name}\")\n",
    "    \n",
    "function('python')"
   ]
  },
  {
   "cell_type": "code",
   "execution_count": null,
   "metadata": {},
   "outputs": [],
   "source": []
  }
 ],
 "metadata": {
  "kernelspec": {
   "display_name": "Python 3",
   "language": "python",
   "name": "python3"
  },
  "language_info": {
   "codemirror_mode": {
    "name": "ipython",
    "version": 3
   },
   "file_extension": ".py",
   "mimetype": "text/x-python",
   "name": "python",
   "nbconvert_exporter": "python",
   "pygments_lexer": "ipython3",
   "version": "3.7.3"
  }
 },
 "nbformat": 4,
 "nbformat_minor": 2
}
